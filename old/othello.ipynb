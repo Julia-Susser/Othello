{
 "cells": [
  {
   "cell_type": "code",
   "execution_count": 9,
   "metadata": {},
   "outputs": [],
   "source": [
    "import turtle"
   ]
  },
  {
   "cell_type": "code",
   "execution_count": 22,
   "metadata": {},
   "outputs": [],
   "source": [
    "s.clear()"
   ]
  },
  {
   "cell_type": "code",
   "execution_count": 17,
   "metadata": {},
   "outputs": [],
   "source": [
    "t.shape(\"circle\")\n",
    "\n",
    "s.update()"
   ]
  },
  {
   "cell_type": "code",
   "execution_count": 26,
   "metadata": {},
   "outputs": [],
   "source": [
    "t = turtle.Turtle( )\n",
    "t.forward(100)"
   ]
  },
  {
   "cell_type": "code",
   "execution_count": 24,
   "metadata": {},
   "outputs": [],
   "source": [
    "s = turtle.Screen( )\n",
    "s.clear()\n",
    "t = turtle.Turtle( )\n",
    "s.setup(800,800)\n",
    "#s.tracer(0,0)\n",
    "t.circle(50)"
   ]
  },
  {
   "cell_type": "code",
   "execution_count": 23,
   "metadata": {},
   "outputs": [],
   "source": [
    "t.pendown()\n",
    "t.shape(\"circle\")\n",
    "t.shapesize(5,2.5,2.5)\n"
   ]
  },
  {
   "cell_type": "code",
   "execution_count": 89,
   "metadata": {},
   "outputs": [],
   "source": [
    "upperCorner = (-Screensize+50,Screensize-90)\n",
    "def drawBoard(n):\n",
    "    size = (Screensize*2-(140))/n\n",
    "    for row in range(n):\n",
    "        t.penup()\n",
    "        t.goto(upperCorner[0],upperCorner[1]-(size*row))\n",
    "        t.pendown( )\n",
    "        for col in range(n):\n",
    "            for sq in range(4):\n",
    "                t.forward(size)\n",
    "                t.right(90)\n",
    "            t.forward(size)\n",
    "    \n",
    "drawBoard(8)\n",
    "s.update()"
   ]
  },
  {
   "cell_type": "code",
   "execution_count": 92,
   "metadata": {},
   "outputs": [],
   "source": [
    "def whichRow(y):\n",
    "    n = 8\n",
    "    size = (Screensize*2-(50+50))/n\n",
    "    return -((y-310)/size)"
   ]
  },
  {
   "cell_type": "code",
   "execution_count": 86,
   "metadata": {},
   "outputs": [
    {
     "data": {
      "text/plain": [
       "3"
      ]
     },
     "execution_count": 86,
     "metadata": {},
     "output_type": "execute_result"
    }
   ],
   "source": [
    "def whichColumn(x):\n",
    "    n = 8\n",
    "    size = (Screensize*2-(140))/n\n",
    "    return int((x+350)/size)"
   ]
  },
  {
   "cell_type": "code",
   "execution_count": 91,
   "metadata": {},
   "outputs": [],
   "source": [
    "def get_mouse_click_coor(x, y):\n",
    "    print(x, y)\n",
    "\n",
    "turtle.onscreenclick(get_mouse_click_coor)"
   ]
  },
  {
   "cell_type": "code",
   "execution_count": 11,
   "metadata": {},
   "outputs": [],
   "source": [
    "\n",
    "t.shape(\"turtle\")\n",
    "t.shape(\"circle\")\n",
    "t.shapesize(2.5,2.5,2.5)\n",
    "t.stamp( )\n",
    "t.write(\"Let\\’s Play!\")\n",
    "s = turtle.Screen( )\n",
    "s.bgcolor(\"forest green\")\n",
    "s.setup(400,400)\n",
    "s.tracer(0,0)\n",
    "s.tracer(1,0)\n"
   ]
  },
  {
   "cell_type": "code",
   "execution_count": 2,
   "metadata": {},
   "outputs": [],
   "source": [
    "turtle.screensize(canvwidth=400, canvheight=400)\n",
    "Screensize = turtle.screensize()[0]\n",
    "t = turtle.Turtle( )\n",
    "s = turtle.Screen( )"
   ]
  },
  {
   "cell_type": "code",
   "execution_count": 18,
   "metadata": {},
   "outputs": [
    {
     "data": {
      "text/plain": [
       "27"
      ]
     },
     "execution_count": 18,
     "metadata": {},
     "output_type": "execute_result"
    }
   ],
   "source": [
    "t.pendown()\n",
    "t.goto(-100,0)\n",
    "t.stamp( )"
   ]
  },
  {
   "cell_type": "code",
   "execution_count": 31,
   "metadata": {},
   "outputs": [],
   "source": [
    "s.clear()"
   ]
  },
  {
   "cell_type": "code",
   "execution_count": 10,
   "metadata": {},
   "outputs": [],
   "source": [
    "t.pendown( )\n",
    "t.forward(10)\n",
    "s.update()"
   ]
  },
  {
   "cell_type": "code",
   "execution_count": 29,
   "metadata": {},
   "outputs": [],
   "source": [
    "\n",
    "t.goto(-Screensize/2,100)"
   ]
  },
  {
   "cell_type": "code",
   "execution_count": 7,
   "metadata": {},
   "outputs": [],
   "source": [
    "import turtle\n",
    "  \n",
    "# motion\n",
    "turtle.forward(100)\n",
    "turtle.right(90)\n",
    "turtle.forward(100)\n",
    "turtle.right(90)\n",
    "turtle.forward(100)\n",
    "  \n",
    "# clear the drawing\n",
    "# and remain turtle \n",
    "# as it is\n",
    "turtle.clear()"
   ]
  },
  {
   "cell_type": "code",
   "execution_count": null,
   "metadata": {},
   "outputs": [],
   "source": []
  }
 ],
 "metadata": {
  "kernelspec": {
   "display_name": "Python 3",
   "language": "python",
   "name": "python3"
  },
  "language_info": {
   "codemirror_mode": {
    "name": "ipython",
    "version": 3
   },
   "file_extension": ".py",
   "mimetype": "text/x-python",
   "name": "python",
   "nbconvert_exporter": "python",
   "pygments_lexer": "ipython3",
   "version": "3.8.4"
  }
 },
 "nbformat": 4,
 "nbformat_minor": 4
}
